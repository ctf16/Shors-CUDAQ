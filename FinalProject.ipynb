{
  "nbformat": 4,
  "nbformat_minor": 0,
  "metadata": {
    "colab": {
      "provenance": []
    },
    "kernelspec": {
      "name": "python3",
      "display_name": "Python 3"
    },
    "language_info": {
      "name": "python"
    }
  },
  "cells": [
    {
      "cell_type": "markdown",
      "source": [
        "# Prime Factorization with Shor's Algorithm"
      ],
      "metadata": {
        "id": "fWADLQuZIjpd"
      }
    },
    {
      "cell_type": "markdown",
      "source": [
        "# Theory\n",
        "\n",
        "## Preliminary Facts and Variables\n",
        "`N`: number to factor \\\n",
        "`a`: number coprime to `N` \\\n",
        "`r`: order of `a` \\\n",
        "`K`: `GCD(a,N)` \\\n",
        "`n`: number of qubits required, as a function of `n = lg(N-1)`\n",
        "\n",
        "## Contents\n",
        "\n",
        "1. [Classical Reduction](#classical-reduction)\n",
        "2. [Quantum Order-Finding Kernel](#quantum-order-finding-kernel)\n",
        "\n",
        "## Classical Reduction\n",
        "Goal: find a number `1 < a < N` that is coprime to `N`\n",
        "\n",
        "The streamlined Shor's algorithm assumes two things: `N` is odd and not a prime power (can be represented as a positive integer power of a prime number). These are basic assumptions since either of these conditions being false would mean that N is not prime factorable.\n",
        "\n",
        "The classical reduction mainly consists of generating a random `a`, finding `K = GCD(a,N)`, and then calling the quantum order-finding kernel. If `K != 1`, then `K` is a nontrivial factor of `N` and the other factor is `N/K`, and we have successfully found nontrivial factors of `N`. If `K = 1`, we call the quantum kernel to find order `r` of `a`. Due to the way the problem is broken down, `r` must be even; if it isn't, then we restart and find a new `a`.\n",
        "\n",
        "Once returning from the quantum kernel with an even `r`, we calculate $x = a^\\frac{r}{2} - 1$ and `d = GCD(x,N)`. If `d > 1`, then it is one of our factors, with `N/d` being the other.\n",
        "\n",
        "\n",
        "## Quantum Order Finding Kernel\n",
        "Goal: find the order `r` of a number `a`\n",
        "\n",
        "The bulk of this kernel is a function M<sub>a</sub> which is defined as the `n`-qubit operation M<sub>a</sub>|x> s/t:\n",
        "\n",
        "$$\n",
        "M_a |x⟩ =\n",
        "\\begin{cases}\n",
        "|ax (mod N)⟩ & \\quad 0 \\leq x < N\\\\\n",
        "|x⟩ & \\quad N \\leq x < 2^n\n",
        "\\end{cases}\n",
        "$$\n",
        "\n",
        "This can be done by building a circuit $|x⟩|y⟩ \\to |x⟩|y \\oplus f_a(x)⟩$, which has size $O(n^2)$.\n",
        "\n",
        "The general form of the quantum kernel is as follows:\n",
        "1. Prepare `n` control qubits into a uniform superposition by applying Hadamard gates to each control qubit.\n",
        "2. Prepare `n` target qubits into the state `|1⟩`.\n",
        "3. Iteratively apply $M_a ^ {2^i}$ where $i = 0, 1, \\cdots , {2n-1}$ using each of the control qubits to control the operation.\n",
        "4. Apply the Inverse QFT\n",
        "5. Measure to get a random integer of the form $\\frac{j}{r} 2^{2n}$\n",
        "6. Carry out continued fractions algorithm to extract `r`\n",
        "\n",
        "\n",
        "\n",
        "\n",
        "\n",
        "\n",
        "\n",
        "\n"
      ],
      "metadata": {
        "id": "dWLJE4GfI9Xv"
      }
    },
    {
      "cell_type": "markdown",
      "source": [
        "# General Process for Shors(N)\n",
        "\n",
        "Given a number `N`, find two factors F and G.\n",
        "\n",
        "1. Pick a random `a`\n",
        "2. Compute `K = gcd(a,N)`\n",
        "3. If `K != 1`, then $F = K$ and $G = N/K$\n",
        "4. Call the quantum kernel on `a`\n",
        "5. If `r` is odd, restart at step 1\n",
        "6. Compute $G = GCD(N, a^{\\frac{r}{2}} + 1)$\n",
        "7. If $G$ is nontrivial, we have $G$ and $F = N/G$"
      ],
      "metadata": {
        "id": "LD3nL_2joX4w"
      }
    },
    {
      "cell_type": "markdown",
      "source": [
        "# Implementation\n",
        "\n",
        "The biggest challenge in implementing Shor's efficiently is exponentiating $M_a$ to get $M_b = M_a^{2^i}$\n",
        "\n"
      ],
      "metadata": {
        "id": "EKtNreiaqKAQ"
      }
    },
    {
      "cell_type": "code",
      "execution_count": 4,
      "metadata": {
        "colab": {
          "base_uri": "https://localhost:8080/"
        },
        "id": "bFJy7eG3IXA1",
        "outputId": "265f7994-3e01-4777-a813-31e9dde5fc56"
      },
      "outputs": [
        {
          "output_type": "stream",
          "name": "stdout",
          "text": [
            "Requirement already satisfied: cudaq in /usr/local/lib/python3.11/dist-packages (0.10.0)\n",
            "Requirement already satisfied: cuda-quantum-cu12==0.10.0 in /usr/local/lib/python3.11/dist-packages (from cudaq) (0.10.0)\n",
            "Requirement already satisfied: astpretty~=3.0 in /usr/local/lib/python3.11/dist-packages (from cuda-quantum-cu12==0.10.0->cudaq) (3.0.0)\n",
            "Requirement already satisfied: cuquantum-python-cu12>=25.03 in /usr/local/lib/python3.11/dist-packages (from cuda-quantum-cu12==0.10.0->cudaq) (25.3.0)\n",
            "Requirement already satisfied: numpy>=1.24 in /usr/local/lib/python3.11/dist-packages (from cuda-quantum-cu12==0.10.0->cudaq) (2.0.2)\n",
            "Requirement already satisfied: scipy>=1.10.1 in /usr/local/lib/python3.11/dist-packages (from cuda-quantum-cu12==0.10.0->cudaq) (1.14.1)\n",
            "Requirement already satisfied: requests>=2.31 in /usr/local/lib/python3.11/dist-packages (from cuda-quantum-cu12==0.10.0->cudaq) (2.32.3)\n",
            "Requirement already satisfied: nvidia-cublas-cu12~=12.0 in /usr/local/lib/python3.11/dist-packages (from cuda-quantum-cu12==0.10.0->cudaq) (12.5.3.2)\n",
            "Requirement already satisfied: nvidia-curand-cu12~=10.3 in /usr/local/lib/python3.11/dist-packages (from cuda-quantum-cu12==0.10.0->cudaq) (10.3.6.82)\n",
            "Requirement already satisfied: nvidia-cuda-runtime-cu12~=12.0 in /usr/local/lib/python3.11/dist-packages (from cuda-quantum-cu12==0.10.0->cudaq) (12.5.82)\n",
            "Requirement already satisfied: nvidia-cusolver-cu12~=11.4 in /usr/local/lib/python3.11/dist-packages (from cuda-quantum-cu12==0.10.0->cudaq) (11.6.3.83)\n",
            "Requirement already satisfied: nvidia-cuda-nvrtc-cu12~=12.0 in /usr/local/lib/python3.11/dist-packages (from cuda-quantum-cu12==0.10.0->cudaq) (12.5.82)\n",
            "Requirement already satisfied: custatevec-cu12~=1.8 in /usr/local/lib/python3.11/dist-packages (from cuquantum-python-cu12>=25.03->cuda-quantum-cu12==0.10.0->cudaq) (1.8.0)\n",
            "Requirement already satisfied: cutensornet-cu12~=2.7 in /usr/local/lib/python3.11/dist-packages (from cuquantum-python-cu12>=25.03->cuda-quantum-cu12==0.10.0->cudaq) (2.7.0)\n",
            "Requirement already satisfied: cudensitymat-cu12~=0.1 in /usr/local/lib/python3.11/dist-packages (from cuquantum-python-cu12>=25.03->cuda-quantum-cu12==0.10.0->cudaq) (0.1.0)\n",
            "Requirement already satisfied: cupy-cuda12x>=13.0 in /usr/local/lib/python3.11/dist-packages (from cuquantum-python-cu12>=25.03->cuda-quantum-cu12==0.10.0->cudaq) (13.3.0)\n",
            "Requirement already satisfied: nvidia-nvjitlink-cu12 in /usr/local/lib/python3.11/dist-packages (from nvidia-cusolver-cu12~=11.4->cuda-quantum-cu12==0.10.0->cudaq) (12.5.82)\n",
            "Requirement already satisfied: nvidia-cusparse-cu12 in /usr/local/lib/python3.11/dist-packages (from nvidia-cusolver-cu12~=11.4->cuda-quantum-cu12==0.10.0->cudaq) (12.5.1.3)\n",
            "Requirement already satisfied: charset-normalizer<4,>=2 in /usr/local/lib/python3.11/dist-packages (from requests>=2.31->cuda-quantum-cu12==0.10.0->cudaq) (3.4.1)\n",
            "Requirement already satisfied: idna<4,>=2.5 in /usr/local/lib/python3.11/dist-packages (from requests>=2.31->cuda-quantum-cu12==0.10.0->cudaq) (3.10)\n",
            "Requirement already satisfied: urllib3<3,>=1.21.1 in /usr/local/lib/python3.11/dist-packages (from requests>=2.31->cuda-quantum-cu12==0.10.0->cudaq) (2.3.0)\n",
            "Requirement already satisfied: certifi>=2017.4.17 in /usr/local/lib/python3.11/dist-packages (from requests>=2.31->cuda-quantum-cu12==0.10.0->cudaq) (2025.1.31)\n",
            "Requirement already satisfied: cutensor-cu12<3,>=2.2 in /usr/local/lib/python3.11/dist-packages (from cudensitymat-cu12~=0.1->cuquantum-python-cu12>=25.03->cuda-quantum-cu12==0.10.0->cudaq) (2.2.0)\n",
            "Requirement already satisfied: fastrlock>=0.5 in /usr/local/lib/python3.11/dist-packages (from cupy-cuda12x>=13.0->cuquantum-python-cu12>=25.03->cuda-quantum-cu12==0.10.0->cudaq) (0.8.3)\n"
          ]
        }
      ],
      "source": [
        "!pip install cudaq\n",
        "import numpy as np\n",
        "import cudaq\n",
        "\n",
        "\n"
      ]
    },
    {
      "cell_type": "code",
      "source": [
        "# Global variables\n",
        "\n",
        "N = 15\n",
        "\n",
        "REGSIZE = int(np.ceil(np.log2(N)))\n",
        "CONTROL = cudaq.qvector(REGSIZE*2)\n",
        "TARGET = cudaq.qvector(REGSIZE)\n",
        "\n",
        "print(f\"N = {N}\")\n",
        "print(f\"REGSIZE = {REGSIZE}\")\n",
        "# print(\"CONTROL:\")\n",
        "# print(cudaq.get_state(CONTROL))\n",
        "# print(\"TARGET:\")\n",
        "# print(cudaq.get_state(TARGET))\n",
        "\n",
        "A = -1\n",
        "R = -1\n",
        "\n",
        "F = G = -1"
      ],
      "metadata": {
        "colab": {
          "base_uri": "https://localhost:8080/"
        },
        "id": "ieK2piT-uPfh",
        "outputId": "03ec5590-d61b-4189-ed9b-69b63fe64d70"
      },
      "execution_count": 5,
      "outputs": [
        {
          "output_type": "stream",
          "name": "stdout",
          "text": [
            "N = 15\n",
            "REGSIZE = 4\n"
          ]
        }
      ]
    },
    {
      "cell_type": "code",
      "source": [
        "# Initialize the system\n",
        "def init():\n",
        "  \"\"\"\n",
        "  Initializes our system with the two registers\n",
        "\n",
        "  First register (CONTROL) is initialized as a uniform superposition of |0⟩ states\n",
        "  Second register (TARGET) is initialized as n |1> states\n",
        "  \"\"\"\n",
        "\n",
        "  for i in range(2*REGSIZE):\n",
        "    if i < REGSIZE:\n",
        "      cudaq.x(TARGET[i])\n",
        "    cudaq.h(CONTROL[i])\n",
        "\n",
        "  print(\"CONTROL:\")\n",
        "  print(cudaq.get_state(CONTROL))\n",
        "  print(\"\\nTARGET:\")\n",
        "  print(cudaq.get_state(TARGET))"
      ],
      "metadata": {
        "id": "nndhhspdwlZc"
      },
      "execution_count": 3,
      "outputs": []
    },
    {
      "cell_type": "code",
      "source": [
        "# Modular exponentiation of M_a\n",
        "\n",
        "def mod_exp_Ma(a, j):\n",
        "  \"\"\"\n",
        "  Calculates M_a^j using repeated modular multiplication (assuming we use small enough examples so as not to blow up my copmuter)\n",
        "\n",
        "  Args:\n",
        "      a: our random guess\n",
        "      j: power to raise M_a to\n",
        "\n",
        "  Returns:\n",
        "      None: Modifies registers\n",
        "  \"\"\""
      ],
      "metadata": {
        "id": "nmN6p0N0sTWZ"
      },
      "execution_count": null,
      "outputs": []
    },
    {
      "cell_type": "markdown",
      "source": [
        "# Sources\n",
        "\n",
        "Classical Reduction -\n",
        "[Shor's Algorithm (IBM)](https://learning.quantum.ibm.com/course/fundamentals-of-quantum-algorithms/phase-estimation-and-factoring#shors-algorithm)"
      ],
      "metadata": {
        "id": "fodU2lQNOFnZ"
      }
    }
  ]
}